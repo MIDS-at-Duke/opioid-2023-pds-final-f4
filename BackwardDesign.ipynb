{
 "cells": [
  {
   "cell_type": "raw",
   "metadata": {},
   "source": [
    "---\n",
    "title: '\\LARGE Effects of Opioid Crisis Policy in the United States'\n",
    "subtitle: '\\large Backwards Design Concept'\n",
    "jupyter: ir\n",
    "output:\n",
    "  'quarto::pdf_document':\n",
    "    latex_engine: xelatex\n",
    "    toc: true\n",
    "    number_sections: true\n",
    "    highlight: tango\n",
    "    keep_tex: true\n",
    "    fig_caption: true\n",
    "    fig_height: 3\n",
    "    fig_width: 6\n",
    "    dev: cairo_pdf\n",
    "    pandoc_args:\n",
    "      - '--pdf-engine-opt=-output-directory=pdf'\n",
    "header-includes:\n",
    "    - \\usepackage{graphicx}\n",
    "    - \\usepackage{wrapfig}\n",
    "    - \\usepackage{colortbl}\n",
    "    - \\usepackage{float}\n",
    "---"
   ]
  },
  {
   "cell_type": "markdown",
   "metadata": {},
   "source": [
    "# Problem Framing\n",
    "The problem this project seeks to address is the assessing the effectiveness of policy on the opioid crisis in America. Throughout the past years, America has seen a sharp increase in opioid usage, addiction, and related fatalities. It is important to assess the effects of policy implementation to ensure that we are iteratively approaching positive change within our society. Without reflective assessment, policies have subjective influence, are prone to politicization, and may not be effective in addressing the problem at hand. In this assessment we will both seek to understand the effectiveness of policy implementatio as well as establish a framework for future policy assessment. \n"
   ]
  },
  {
   "cell_type": "markdown",
   "metadata": {},
   "source": [
    "# Question Definition\n",
    "The two questions we seek to answer within our analysis of policies directed at the opioid crisis are:\n",
    "1. What is the effect of opioid drug prescription regulation on the volume of opioids prescribed?\n",
    "2. What is the effect of opioid drug prescription regulation on the number of opioid related deaths?\n",
    "\n",
    "In these questions we find two ouput variables: the volume of opioids prescribed (shipments) and opioid related deaths. We will seek to understand the effect of policy on these two variables."
   ]
  },
  {
   "cell_type": "markdown",
   "metadata": {},
   "source": [
    "## Policy Outlines:\n",
    "* Florida (2010): In 2010, Florida was home to 98 of the 100 U.S. physicians who dispensed the highest quantities of oxycodone directly from their offices. In February 2010, the Drug Enforcement Administration and various Florida law enforcement agencies began to work together in Operation Pill Nation. Operation Pill Nation was an edeavor to crack down on rogue pain clinics and 'pill mills' which were distributing opioids in large quantities. There were a series of policy evolutions here but they are referenced as having occured in February of 2010. Additional milestones of interest are the declaration of a public health emergency by the Florida Surgeon General, the prohibition of physician dispensing of Schedule II and III drugs, and the implementation of the Prescription Drug Monitoring Program (PDMP).\n",
    "* Texas (2007): Texas Medical Board adopted regulations for the treatment of pain with controlled substances which included:\n",
    "    * Perfroming a patient evaluation before prescribing opioids including a review of prescription history.\n",
    "    * Obtaining informed consent from the patient for opioid treatment.\n",
    "    * Conducting periodic reviews of the patient's progress with a complete medical recod of treatment. \n",
    "* Washington (2012): In 2012, Washington State enacted regulations for the prescribing of opioids which included requirements that must be met prior to the prescription of opioids to a patient:\n",
    "    * For stable patients involving non-escalating doses (daily) of 40mg per day or less. Annual review of the patient's treatment required.\n",
    "    * For patients who would recieve 120mg per day, a mandatory consultation is required.\n",
    "    * If there is a prescription above the consultation threshold, a consultation with a pain management specialist is required.\n",
    "    * The physician must document all consultations.\n",
    "    * Prescription above the 120mg is not recommended for patients demonstrating improvement in function or without first obtaining a consultation with a pain management specialist."
   ]
  },
  {
   "cell_type": "markdown",
   "metadata": {},
   "source": [
    "# Answer Proposal\n",
    "\n",
    "```python code chunks for plots here with markdown descriptions```"
   ]
  },
  {
   "cell_type": "raw",
   "metadata": {},
   "source": [
    "\"\"\" Pre-Post Model Figures \"\"\"\n",
    "import pandas as pd\n",
    "import numpy as np\n",
    "import matplotlib.pyplot as plt\n",
    "\n",
    "# Generate dummy data\n",
    "pre_policy_time = np.array([-3, -2, -1])\n",
    "post_policy_time = np.array([0, 1, 2])\n",
    "\n",
    "# Effective policy intervention\n",
    "effective_pre_policy_data = 6.6 + 0.3 * pre_policy_time\n",
    "effective_post_policy_data = effective_pre_policy_data[-1] - 0.4 * post_policy_time\n",
    "\n",
    "# Ineffective policy intervention\n",
    "ineffective_pre_policy_data = 6.6 + 0.1 * pre_policy_time\n",
    "ineffective_post_policy_data = ineffective_pre_policy_data[-1] + 0.1 * post_policy_time\n",
    "\n",
    "# Plotting the effective policy intervention\n",
    "plt.figure(figsize=(14, 6))\n",
    "\n",
    "plt.subplot(1, 2, 1)\n",
    "plt.plot(pre_policy_time, effective_pre_policy_data, marker='o', label='Before Policy Change')\n",
    "plt.plot(post_policy_time, effective_post_policy_data, marker='o', label='After Policy Change')\n",
    "plt.axvline(x=0, color='k', linestyle='--', label='Policy Change')\n",
    "plt.xlabel('Years from Policy Change')\n",
    "plt.ylabel('Opioids per Cap')\n",
    "plt.title('Pre-Post Model Graph, Effective Policy Intervention')\n",
    "plt.legend()\n",
    "\n",
    "# Plotting the ineffective policy intervention\n",
    "plt.subplot(1, 2, 2)\n",
    "plt.plot(pre_policy_time, ineffective_pre_policy_data, marker='o', label='Before Policy Change')\n",
    "plt.plot(post_policy_time, ineffective_post_policy_data, marker='o', label='After Policy Change')\n",
    "plt.axvline(x=0, color='k', linestyle='--', label='Policy Change')\n",
    "plt.xlabel('Years from Policy Change')\n",
    "plt.ylabel('Opioids per Cap')\n",
    "plt.title('Pre-Post Model Graph, Ineffective Policy Intervention')\n",
    "plt.legend()\n",
    "\n",
    "plt.tight_layout()\n",
    "plt.show()"
   ]
  },
  {
   "cell_type": "raw",
   "metadata": {},
   "source": [
    "\"\"\" Diff-in-Diff Model Figures \"\"\"\n",
    "\n",
    "# Set a seed for reproducibility\n",
    "np.random.seed(0)\n",
    "\n",
    "# Generate dummy data\n",
    "control_before = np.array([7, 7.3, 7.5])\n",
    "control_after = np.array([7.5, 7.6, 7.7])\n",
    "treatment_before = np.array([6, 6.2, 6.5])\n",
    "treatment_after_effective = np.array([6.5, 6.4, 6.3])\n",
    "treatment_after_ineffective = np.array([6.5, 6.6, 6.7])\n",
    "years_before = np.array([-3, -2, -1])\n",
    "years_after = np.array([0, 1, 2])\n",
    "\n",
    "# Create the plots\n",
    "fig, axs = plt.subplots(1, 2, figsize=(15, 6), sharey=True)\n",
    "\n",
    "# Plot settings\n",
    "line_style = '-'\n",
    "colors = ['red', 'blue']\n",
    "labels = ['reference state', 'state of interest']\n",
    "\n",
    "# Plot for Effective Policy Intervention\n",
    "for ax, treatment_after in zip(axs, [treatment_after_effective, treatment_after_ineffective]):\n",
    "    ax.plot(years_before, control_before, color=colors[0], label=labels[0], linestyle=line_style)\n",
    "    ax.plot(years_before, treatment_before, color=colors[1], label=labels[1], linestyle=line_style)\n",
    "    ax.plot(years_after, control_after, color=colors[0], linestyle=line_style)\n",
    "    ax.plot(years_after, treatment_after, color=colors[1], linestyle=line_style)\n",
    "    ax.axvline(x=0, color='k', linestyle='--')\n",
    "    ax.set_xlabel('States with Policy Change')\n",
    "    ax.grid(True)\n",
    "\n",
    "# Set titles\n",
    "axs[0].set_title('Diff-in-Diff Model Graph, Effective Policy Intervention')\n",
    "axs[1].set_title('Diff-in-Diff Model Graph, Ineffective Policy Intervention')\n",
    "\n",
    "# Set common y-label\n",
    "fig.text(0.0, 0.5, 'Opioids Per Cap', va='center', rotation='vertical')\n",
    "\n",
    "# Adjust legend\n",
    "handles, labels = axs[0].get_legend_handles_labels()\n",
    "fig.legend(handles, labels, loc='lower center', ncol=2, bbox_to_anchor=(0.5, -0.05))\n",
    "\n",
    "# Adjust layout to make room for the legend\n",
    "plt.tight_layout(rect=[0, 0.1, 1, 0.95])\n",
    "\n",
    "plt.show()\n"
   ]
  },
  {
   "cell_type": "markdown",
   "metadata": {},
   "source": [
    "# Required Data\n",
    "For this assessment we will need data on opioid mortality and opioid volume. The data we will use is as follows:\n",
    "* Washington Post, United States opioid drug shipments by state. \n",
    "* Vital Statistics Mortality Data, Opioids\n",
    "* ```additional data sources here```"
   ]
  },
  {
   "cell_type": "markdown",
   "metadata": {},
   "source": [
    "# Data Sourcing\n",
    "This data will be sourced from the following locations:\n",
    "* ```Washington post link```\n",
    "* ```Vital Statistics Mortality Data link```\n",
    "* ```additional data sources here```"
   ]
  }
 ],
 "metadata": {
  "kernelspec": {
   "display_name": ".venv",
   "language": "python",
   "name": "python3"
  },
  "language_info": {
   "codemirror_mode": {
    "name": "ipython",
    "version": 3
   },
   "file_extension": ".py",
   "mimetype": "text/x-python",
   "name": "python",
   "nbconvert_exporter": "python",
   "pygments_lexer": "ipython3",
   "version": "3.11.3"
  }
 },
 "nbformat": 4,
 "nbformat_minor": 2
}
