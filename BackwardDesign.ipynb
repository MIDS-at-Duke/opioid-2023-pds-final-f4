{
 "cells": [
  {
   "cell_type": "raw",
   "metadata": {},
   "source": [
    "---\n",
    "title: '\\LARGE Effects of Opioid Crisis Policy in the United States'\n",
    "subtitle: '\\large Backwards Design Concept'\n",
    "jupyter: ir\n",
    "output:\n",
    "  'quarto::pdf_document':\n",
    "    latex_engine: xelatex\n",
    "    toc: true\n",
    "    number_sections: true\n",
    "    highlight: tango\n",
    "    keep_tex: true\n",
    "    fig_caption: true\n",
    "    fig_height: 3\n",
    "    fig_width: 6\n",
    "    dev: cairo_pdf\n",
    "    pandoc_args:\n",
    "      - '--pdf-engine-opt=-output-directory=pdf'\n",
    "header-includes:\n",
    "    - \\usepackage{graphicx}\n",
    "    - \\usepackage{wrapfig}\n",
    "    - \\usepackage{colortbl}\n",
    "    - \\usepackage{float}\n",
    "---"
   ]
  },
  {
   "cell_type": "markdown",
   "metadata": {},
   "source": [
    "# Problem Framing\n",
    "The problem this project seeks to address is the assessing the effectiveness of policy on the opioid crisis in America. Throughout the past years, America has seen a sharp increase in opioid usage, addiction, and related fatalities. It is important to assess the effects of policy implementation to ensure that we are iteratively approaching positive change within our society. Without reflective assessment, policies have subjective influence, are prone to politicization, and may not be effective in addressing the problem at hand. In this assessment we will both seek to understand the effectiveness of policy implementatio as well as establish a framework for future policy assessment. \n"
   ]
  },
  {
   "cell_type": "markdown",
   "metadata": {},
   "source": [
    "# Question Definition\n",
    "The two questions we seek to answer within our analysis of policies directed at the opioid crisis are:\n",
    "1. What is the effect of opioid drug prescription regulation on the volume of opioids prescribed?\n",
    "2. What is the effect of opioid drug prescription regulation on the number of opioid related deaths?\n",
    "\n",
    "In these questions we find two ouput variables: the volume of opioids prescribed (shipments) and opioid related deaths. We will seek to understand the effect of policy on these two variables."
   ]
  },
  {
   "cell_type": "markdown",
   "metadata": {},
   "source": [
    "## Policy Outlines:\n",
    "* Florida (2010): In 2010, Florida was home to 98 of the 100 U.S. physicians who dispensed the highest quantities of oxycodone directly from their offices. In February 2010, the Drug Enforcement Administration and various Florida law enforcement agencies began to work together in Operation Pill Nation. Operation Pill Nation was an edeavor to crack down on rogue pain clinics and 'pill mills' which were distributing opioids in large quantities. There were a series of policy evolutions here but they are referenced as having occured in February of 2010. Additional milestones of interest are the declaration of a public health emergency by the Florida Surgeon General, the prohibition of physician dispensing of Schedule II and III drugs, and the implementation of the Prescription Drug Monitoring Program (PDMP).\n",
    "* Texas (2007): Texas Medical Board adopted regulations for the treatment of pain with controlled substances which included:\n",
    "    * Perfroming a patient evaluation before prescribing opioids including a review of prescription history.\n",
    "    * Obtaining informed consent from the patient for opioid treatment.\n",
    "    * Conducting periodic reviews of the patient's progress with a complete medical recod of treatment. \n",
    "* Washington (2012): In 2012, Washington State enacted regulations for the prescribing of opioids which included requirements that must be met prior to the prescription of opioids to a patient:\n",
    "    * For stable patients involving non-escalating doses (daily) of 40mg per day or less. Annual review of the patient's treatment required.\n",
    "    * For patients who would recieve 120mg per day, a mandatory consultation is required.\n",
    "    * If there is a prescription above the consultation threshold, a consultation with a pain management specialist is required.\n",
    "    * The physician must document all consultations.\n",
    "    * Prescription above the 120mg is not recommended for patients demonstrating improvement in function or without first obtaining a consultation with a pain management specialist."
   ]
  },
  {
   "cell_type": "markdown",
   "metadata": {},
   "source": [
    "# Answer Proposal\n",
    "\n",
    "```python code chunks for plots here with markdown descriptions```"
   ]
  },
  {
   "cell_type": "markdown",
   "metadata": {},
   "source": [
    "# Required Data\n",
    "For this assessment we will need data on opioid mortality and opioid volume. The data we will use is as follows:\n",
    "* Washington Post, United States opioid drug shipments by state. \n",
    "* Vital Statistics Mortality Data, Opioids\n",
    "* ```additional data sources here```"
   ]
  },
  {
   "cell_type": "markdown",
   "metadata": {},
   "source": [
    "# Data Sourcing\n",
    "This data will be sourced from the following locations:\n",
    "* ```Washington post link```\n",
    "* ```Vital Statistics Mortality Data link```\n",
    "* ```additional data sources here```"
   ]
  }
 ],
 "metadata": {
  "language_info": {
   "name": "python"
  }
 },
 "nbformat": 4,
 "nbformat_minor": 2
}
