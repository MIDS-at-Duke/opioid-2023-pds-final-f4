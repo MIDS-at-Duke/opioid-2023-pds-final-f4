{
 "cells": [
  {
   "cell_type": "code",
   "execution_count": 2,
   "metadata": {},
   "outputs": [],
   "source": [
    "import pandas as pd\n",
    "import numpy as np\n",
    "import matplotlib.pyplot as plt\n",
    "import seaborn as sns\n",
    "\n",
    "fl_data = pd.read_parquet(\"D:\\MIDS\\Practical Data Science\\PDS_Data\\wp_data_fl.parquet\")\n",
    "wa_data = pd.read_parquet(\"D:\\MIDS\\Practical Data Science\\PDS_Data\\wp_data_wa.parquet\")\n",
    "tx_data = pd.read_parquet(\"D:\\MIDS\\Practical Data Science\\PDS_Data\\wp_data_tx.parquet\")"
   ]
  },
  {
   "cell_type": "code",
   "execution_count": 3,
   "metadata": {},
   "outputs": [
    {
     "name": "stdout",
     "output_type": "stream",
     "text": [
      "(21359080, 33)\n"
     ]
    },
    {
     "data": {
      "text/html": [
       "<div>\n",
       "<style scoped>\n",
       "    .dataframe tbody tr th:only-of-type {\n",
       "        vertical-align: middle;\n",
       "    }\n",
       "\n",
       "    .dataframe tbody tr th {\n",
       "        vertical-align: top;\n",
       "    }\n",
       "\n",
       "    .dataframe thead th {\n",
       "        text-align: right;\n",
       "    }\n",
       "</style>\n",
       "<table border=\"1\" class=\"dataframe\">\n",
       "  <thead>\n",
       "    <tr style=\"text-align: right;\">\n",
       "      <th></th>\n",
       "      <th>REPORTER_DEA_NO</th>\n",
       "      <th>REPORTER_BUS_ACT</th>\n",
       "      <th>REPORTER_NAME</th>\n",
       "      <th>REPORTER_ADDL_CO_INFO</th>\n",
       "      <th>REPORTER_ADDRESS1</th>\n",
       "      <th>REPORTER_ADDRESS2</th>\n",
       "      <th>REPORTER_CITY</th>\n",
       "      <th>REPORTER_STATE</th>\n",
       "      <th>REPORTER_ZIP</th>\n",
       "      <th>REPORTER_COUNTY</th>\n",
       "      <th>...</th>\n",
       "      <th>DRUG_NAME</th>\n",
       "      <th>Measure</th>\n",
       "      <th>MME_Conversion_Factor</th>\n",
       "      <th>Dosage_Strength</th>\n",
       "      <th>TRANSACTION_DATE</th>\n",
       "      <th>Combined_Labeler_Name</th>\n",
       "      <th>Reporter_family</th>\n",
       "      <th>CALC_BASE_WT_IN_GM</th>\n",
       "      <th>DOSAGE_UNIT</th>\n",
       "      <th>MME</th>\n",
       "    </tr>\n",
       "  </thead>\n",
       "  <tbody>\n",
       "    <tr>\n",
       "      <th>33768886</th>\n",
       "      <td>RA0464406</td>\n",
       "      <td>DISTRIBUTOR</td>\n",
       "      <td>AMERISOURCEBERGEN DRUG CORPORATION</td>\n",
       "      <td>None</td>\n",
       "      <td>10910 LEE VISTA BOULEVARD SUITE 401</td>\n",
       "      <td>None</td>\n",
       "      <td>ORLANDO</td>\n",
       "      <td>FL</td>\n",
       "      <td>32829</td>\n",
       "      <td>ORANGE</td>\n",
       "      <td>...</td>\n",
       "      <td>OXYCODONE</td>\n",
       "      <td>TAB</td>\n",
       "      <td>1.5</td>\n",
       "      <td>10.0</td>\n",
       "      <td>2016-08-10</td>\n",
       "      <td>Purdue</td>\n",
       "      <td>AmerisourceBergen Drug</td>\n",
       "      <td>0.8965</td>\n",
       "      <td>100.0</td>\n",
       "      <td>1344.75</td>\n",
       "    </tr>\n",
       "    <tr>\n",
       "      <th>33768887</th>\n",
       "      <td>RA0464406</td>\n",
       "      <td>DISTRIBUTOR</td>\n",
       "      <td>AMERISOURCEBERGEN DRUG CORPORATION</td>\n",
       "      <td>None</td>\n",
       "      <td>10910 LEE VISTA BOULEVARD SUITE 401</td>\n",
       "      <td>None</td>\n",
       "      <td>ORLANDO</td>\n",
       "      <td>FL</td>\n",
       "      <td>32829</td>\n",
       "      <td>ORANGE</td>\n",
       "      <td>...</td>\n",
       "      <td>OXYCODONE</td>\n",
       "      <td>TAB</td>\n",
       "      <td>1.5</td>\n",
       "      <td>10.0</td>\n",
       "      <td>2016-08-10</td>\n",
       "      <td>Purdue</td>\n",
       "      <td>AmerisourceBergen Drug</td>\n",
       "      <td>0.8965</td>\n",
       "      <td>100.0</td>\n",
       "      <td>1344.75</td>\n",
       "    </tr>\n",
       "    <tr>\n",
       "      <th>33768888</th>\n",
       "      <td>RA0464406</td>\n",
       "      <td>DISTRIBUTOR</td>\n",
       "      <td>AMERISOURCEBERGEN DRUG CORPORATION</td>\n",
       "      <td>None</td>\n",
       "      <td>10910 LEE VISTA BOULEVARD SUITE 401</td>\n",
       "      <td>None</td>\n",
       "      <td>ORLANDO</td>\n",
       "      <td>FL</td>\n",
       "      <td>32829</td>\n",
       "      <td>ORANGE</td>\n",
       "      <td>...</td>\n",
       "      <td>OXYCODONE</td>\n",
       "      <td>TAB</td>\n",
       "      <td>1.5</td>\n",
       "      <td>10.0</td>\n",
       "      <td>2016-08-10</td>\n",
       "      <td>Purdue</td>\n",
       "      <td>AmerisourceBergen Drug</td>\n",
       "      <td>0.8965</td>\n",
       "      <td>100.0</td>\n",
       "      <td>1344.75</td>\n",
       "    </tr>\n",
       "    <tr>\n",
       "      <th>33768889</th>\n",
       "      <td>RA0464406</td>\n",
       "      <td>DISTRIBUTOR</td>\n",
       "      <td>AMERISOURCEBERGEN DRUG CORPORATION</td>\n",
       "      <td>None</td>\n",
       "      <td>10910 LEE VISTA BOULEVARD SUITE 401</td>\n",
       "      <td>None</td>\n",
       "      <td>ORLANDO</td>\n",
       "      <td>FL</td>\n",
       "      <td>32829</td>\n",
       "      <td>ORANGE</td>\n",
       "      <td>...</td>\n",
       "      <td>OXYCODONE</td>\n",
       "      <td>TAB</td>\n",
       "      <td>1.5</td>\n",
       "      <td>10.0</td>\n",
       "      <td>2016-08-10</td>\n",
       "      <td>Purdue</td>\n",
       "      <td>AmerisourceBergen Drug</td>\n",
       "      <td>0.8965</td>\n",
       "      <td>100.0</td>\n",
       "      <td>1344.75</td>\n",
       "    </tr>\n",
       "    <tr>\n",
       "      <th>33768890</th>\n",
       "      <td>RA0464406</td>\n",
       "      <td>DISTRIBUTOR</td>\n",
       "      <td>AMERISOURCEBERGEN DRUG CORPORATION</td>\n",
       "      <td>None</td>\n",
       "      <td>10910 LEE VISTA BOULEVARD SUITE 401</td>\n",
       "      <td>None</td>\n",
       "      <td>ORLANDO</td>\n",
       "      <td>FL</td>\n",
       "      <td>32829</td>\n",
       "      <td>ORANGE</td>\n",
       "      <td>...</td>\n",
       "      <td>OXYCODONE</td>\n",
       "      <td>TAB</td>\n",
       "      <td>1.5</td>\n",
       "      <td>40.0</td>\n",
       "      <td>2016-08-22</td>\n",
       "      <td>Sun Pharmaceutical Industries, Inc.</td>\n",
       "      <td>AmerisourceBergen Drug</td>\n",
       "      <td>3.5860</td>\n",
       "      <td>100.0</td>\n",
       "      <td>5379.00</td>\n",
       "    </tr>\n",
       "  </tbody>\n",
       "</table>\n",
       "<p>5 rows × 33 columns</p>\n",
       "</div>"
      ],
      "text/plain": [
       "         REPORTER_DEA_NO REPORTER_BUS_ACT                       REPORTER_NAME  \\\n",
       "33768886       RA0464406      DISTRIBUTOR  AMERISOURCEBERGEN DRUG CORPORATION   \n",
       "33768887       RA0464406      DISTRIBUTOR  AMERISOURCEBERGEN DRUG CORPORATION   \n",
       "33768888       RA0464406      DISTRIBUTOR  AMERISOURCEBERGEN DRUG CORPORATION   \n",
       "33768889       RA0464406      DISTRIBUTOR  AMERISOURCEBERGEN DRUG CORPORATION   \n",
       "33768890       RA0464406      DISTRIBUTOR  AMERISOURCEBERGEN DRUG CORPORATION   \n",
       "\n",
       "         REPORTER_ADDL_CO_INFO                    REPORTER_ADDRESS1  \\\n",
       "33768886                  None  10910 LEE VISTA BOULEVARD SUITE 401   \n",
       "33768887                  None  10910 LEE VISTA BOULEVARD SUITE 401   \n",
       "33768888                  None  10910 LEE VISTA BOULEVARD SUITE 401   \n",
       "33768889                  None  10910 LEE VISTA BOULEVARD SUITE 401   \n",
       "33768890                  None  10910 LEE VISTA BOULEVARD SUITE 401   \n",
       "\n",
       "         REPORTER_ADDRESS2 REPORTER_CITY REPORTER_STATE  REPORTER_ZIP  \\\n",
       "33768886              None       ORLANDO             FL         32829   \n",
       "33768887              None       ORLANDO             FL         32829   \n",
       "33768888              None       ORLANDO             FL         32829   \n",
       "33768889              None       ORLANDO             FL         32829   \n",
       "33768890              None       ORLANDO             FL         32829   \n",
       "\n",
       "         REPORTER_COUNTY  ...  DRUG_NAME Measure MME_Conversion_Factor  \\\n",
       "33768886          ORANGE  ...  OXYCODONE     TAB                   1.5   \n",
       "33768887          ORANGE  ...  OXYCODONE     TAB                   1.5   \n",
       "33768888          ORANGE  ...  OXYCODONE     TAB                   1.5   \n",
       "33768889          ORANGE  ...  OXYCODONE     TAB                   1.5   \n",
       "33768890          ORANGE  ...  OXYCODONE     TAB                   1.5   \n",
       "\n",
       "         Dosage_Strength TRANSACTION_DATE  \\\n",
       "33768886            10.0       2016-08-10   \n",
       "33768887            10.0       2016-08-10   \n",
       "33768888            10.0       2016-08-10   \n",
       "33768889            10.0       2016-08-10   \n",
       "33768890            40.0       2016-08-22   \n",
       "\n",
       "                        Combined_Labeler_Name         Reporter_family  \\\n",
       "33768886                               Purdue  AmerisourceBergen Drug   \n",
       "33768887                               Purdue  AmerisourceBergen Drug   \n",
       "33768888                               Purdue  AmerisourceBergen Drug   \n",
       "33768889                               Purdue  AmerisourceBergen Drug   \n",
       "33768890  Sun Pharmaceutical Industries, Inc.  AmerisourceBergen Drug   \n",
       "\n",
       "         CALC_BASE_WT_IN_GM  DOSAGE_UNIT      MME  \n",
       "33768886             0.8965        100.0  1344.75  \n",
       "33768887             0.8965        100.0  1344.75  \n",
       "33768888             0.8965        100.0  1344.75  \n",
       "33768889             0.8965        100.0  1344.75  \n",
       "33768890             3.5860        100.0  5379.00  \n",
       "\n",
       "[5 rows x 33 columns]"
      ]
     },
     "execution_count": 3,
     "metadata": {},
     "output_type": "execute_result"
    }
   ],
   "source": [
    "print(fl_data.shape)\n",
    "fl_data.head()"
   ]
  },
  {
   "cell_type": "code",
   "execution_count": 4,
   "metadata": {},
   "outputs": [
    {
     "data": {
      "text/plain": [
       "Index(['REPORTER_DEA_NO', 'REPORTER_BUS_ACT', 'REPORTER_NAME',\n",
       "       'REPORTER_ADDL_CO_INFO', 'REPORTER_ADDRESS1', 'REPORTER_ADDRESS2',\n",
       "       'REPORTER_CITY', 'REPORTER_STATE', 'REPORTER_ZIP', 'REPORTER_COUNTY',\n",
       "       'BUYER_DEA_NO', 'BUYER_BUS_ACT', 'BUYER_NAME', 'BUYER_ADDL_CO_INFO',\n",
       "       'BUYER_ADDRESS1', 'BUYER_ADDRESS2', 'BUYER_CITY', 'BUYER_STATE',\n",
       "       'BUYER_ZIP', 'BUYER_COUNTY', 'TRANSACTION_CODE', 'DRUG_CODE', 'NDC_NO',\n",
       "       'DRUG_NAME', 'Measure', 'MME_Conversion_Factor', 'Dosage_Strength',\n",
       "       'TRANSACTION_DATE', 'Combined_Labeler_Name', 'Reporter_family',\n",
       "       'CALC_BASE_WT_IN_GM', 'DOSAGE_UNIT', 'MME'],\n",
       "      dtype='object')"
      ]
     },
     "execution_count": 4,
     "metadata": {},
     "output_type": "execute_result"
    }
   ],
   "source": [
    "fl_data.columns"
   ]
  },
  {
   "cell_type": "markdown",
   "metadata": {},
   "source": [
    "```First we subset the data by only the columns of interest```"
   ]
  },
  {
   "cell_type": "code",
   "execution_count": 5,
   "metadata": {},
   "outputs": [],
   "source": [
    "# subset the data to include BUYER_STATE, BUYER_COUNTY, TRANSACTION_DATE, CALC_BASE_WT_IN_GM\n",
    "fl_data_sub = fl_data[\n",
    "    [\"BUYER_STATE\", \"BUYER_COUNTY\", \"TRANSACTION_DATE\", \"CALC_BASE_WT_IN_GM\"]\n",
    "]\n",
    "wa_data_sub = wa_data[\n",
    "    [\"BUYER_STATE\", \"BUYER_COUNTY\", \"TRANSACTION_DATE\", \"CALC_BASE_WT_IN_GM\"]\n",
    "]\n",
    "tx_data_sub = tx_data[\n",
    "    [\"BUYER_STATE\", \"BUYER_COUNTY\", \"TRANSACTION_DATE\", \"CALC_BASE_WT_IN_GM\"]\n",
    "]"
   ]
  },
  {
   "cell_type": "markdown",
   "metadata": {},
   "source": [
    "```We then clean the date column so that it is only the year```"
   ]
  },
  {
   "cell_type": "code",
   "execution_count": 6,
   "metadata": {},
   "outputs": [
    {
     "name": "stderr",
     "output_type": "stream",
     "text": [
      "C:\\Users\\johnh\\AppData\\Local\\Temp\\ipykernel_13316\\2960415195.py:2: SettingWithCopyWarning: \n",
      "A value is trying to be set on a copy of a slice from a DataFrame.\n",
      "Try using .loc[row_indexer,col_indexer] = value instead\n",
      "\n",
      "See the caveats in the documentation: https://pandas.pydata.org/pandas-docs/stable/user_guide/indexing.html#returning-a-view-versus-a-copy\n",
      "  fl_data_sub['TRANSACTION_YEAR'] = pd.to_datetime(fl_data_sub['TRANSACTION_DATE']).dt.year\n",
      "C:\\Users\\johnh\\AppData\\Local\\Temp\\ipykernel_13316\\2960415195.py:3: SettingWithCopyWarning: \n",
      "A value is trying to be set on a copy of a slice from a DataFrame.\n",
      "Try using .loc[row_indexer,col_indexer] = value instead\n",
      "\n",
      "See the caveats in the documentation: https://pandas.pydata.org/pandas-docs/stable/user_guide/indexing.html#returning-a-view-versus-a-copy\n",
      "  wa_data_sub['TRANSACTION_YEAR'] = pd.to_datetime(wa_data_sub['TRANSACTION_DATE']).dt.year\n",
      "C:\\Users\\johnh\\AppData\\Local\\Temp\\ipykernel_13316\\2960415195.py:4: SettingWithCopyWarning: \n",
      "A value is trying to be set on a copy of a slice from a DataFrame.\n",
      "Try using .loc[row_indexer,col_indexer] = value instead\n",
      "\n",
      "See the caveats in the documentation: https://pandas.pydata.org/pandas-docs/stable/user_guide/indexing.html#returning-a-view-versus-a-copy\n",
      "  tx_data_sub['TRANSACTION_YEAR'] = pd.to_datetime(tx_data_sub['TRANSACTION_DATE']).dt.year\n"
     ]
    }
   ],
   "source": [
    "# extract year from TRANSACTION_DATE\n",
    "fl_data_sub[\"TRANSACTION_YEAR\"] = pd.to_datetime(\n",
    "    fl_data_sub[\"TRANSACTION_DATE\"]\n",
    ").dt.year\n",
    "wa_data_sub[\"TRANSACTION_YEAR\"] = pd.to_datetime(\n",
    "    wa_data_sub[\"TRANSACTION_DATE\"]\n",
    ").dt.year\n",
    "tx_data_sub[\"TRANSACTION_YEAR\"] = pd.to_datetime(\n",
    "    tx_data_sub[\"TRANSACTION_DATE\"]\n",
    ").dt.year"
   ]
  },
  {
   "cell_type": "code",
   "execution_count": 7,
   "metadata": {},
   "outputs": [],
   "source": [
    "fl_data_sub.reset_index(drop=True, inplace=True)\n",
    "wa_data_sub.reset_index(drop=True, inplace=True)\n",
    "tx_data_sub.reset_index(drop=True, inplace=True)"
   ]
  },
  {
   "cell_type": "markdown",
   "metadata": {},
   "source": [
    "```we drop the date column and keep the year since our final observations should be county years```"
   ]
  },
  {
   "cell_type": "code",
   "execution_count": 8,
   "metadata": {},
   "outputs": [
    {
     "name": "stderr",
     "output_type": "stream",
     "text": [
      "C:\\Users\\johnh\\AppData\\Local\\Temp\\ipykernel_13316\\3948794949.py:2: SettingWithCopyWarning: \n",
      "A value is trying to be set on a copy of a slice from a DataFrame\n",
      "\n",
      "See the caveats in the documentation: https://pandas.pydata.org/pandas-docs/stable/user_guide/indexing.html#returning-a-view-versus-a-copy\n",
      "  fl_data_sub.drop(columns=['TRANSACTION_DATE'], inplace=True)\n",
      "C:\\Users\\johnh\\AppData\\Local\\Temp\\ipykernel_13316\\3948794949.py:3: SettingWithCopyWarning: \n",
      "A value is trying to be set on a copy of a slice from a DataFrame\n",
      "\n",
      "See the caveats in the documentation: https://pandas.pydata.org/pandas-docs/stable/user_guide/indexing.html#returning-a-view-versus-a-copy\n",
      "  wa_data_sub.drop(columns=['TRANSACTION_DATE'], inplace=True)\n",
      "C:\\Users\\johnh\\AppData\\Local\\Temp\\ipykernel_13316\\3948794949.py:4: SettingWithCopyWarning: \n",
      "A value is trying to be set on a copy of a slice from a DataFrame\n",
      "\n",
      "See the caveats in the documentation: https://pandas.pydata.org/pandas-docs/stable/user_guide/indexing.html#returning-a-view-versus-a-copy\n",
      "  tx_data_sub.drop(columns=['TRANSACTION_DATE'], inplace=True)\n"
     ]
    }
   ],
   "source": [
    "# drop TRANSACTION_DATE\n",
    "fl_data_sub.drop(columns=[\"TRANSACTION_DATE\"], inplace=True)\n",
    "wa_data_sub.drop(columns=[\"TRANSACTION_DATE\"], inplace=True)\n",
    "tx_data_sub.drop(columns=[\"TRANSACTION_DATE\"], inplace=True)"
   ]
  },
  {
   "cell_type": "markdown",
   "metadata": {},
   "source": [
    "```Next we will check that we have the appropriate year range for each state:```"
   ]
  },
  {
   "cell_type": "code",
   "execution_count": 9,
   "metadata": {},
   "outputs": [
    {
     "data": {
      "text/plain": [
       "TRANSACTION_YEAR\n",
       "2006    1549017\n",
       "2007    1646513\n",
       "2008    1695653\n",
       "2009    1736990\n",
       "2010    1809094\n",
       "2011    1790556\n",
       "2012    1700506\n",
       "2013    1713397\n",
       "2014    1433615\n",
       "2015    1294035\n",
       "2016    1329406\n",
       "2017    1312272\n",
       "2018    1197767\n",
       "2019    1150259\n",
       "Name: count, dtype: int64"
      ]
     },
     "execution_count": 9,
     "metadata": {},
     "output_type": "execute_result"
    }
   ],
   "source": [
    "# display a table of the transaction dates\n",
    "fl_data_sub[\"TRANSACTION_YEAR\"].value_counts().sort_index()"
   ]
  },
  {
   "cell_type": "code",
   "execution_count": 10,
   "metadata": {},
   "outputs": [
    {
     "data": {
      "text/plain": [
       "TRANSACTION_YEAR\n",
       "2006    521956\n",
       "2007    560389\n",
       "2008    585093\n",
       "2009    617158\n",
       "2010    648701\n",
       "2011    651447\n",
       "2012    626903\n",
       "2013    622053\n",
       "2014    586690\n",
       "2015    543572\n",
       "2016    524260\n",
       "2017    481544\n",
       "2018    440643\n",
       "2019    409343\n",
       "Name: count, dtype: int64"
      ]
     },
     "execution_count": 10,
     "metadata": {},
     "output_type": "execute_result"
    }
   ],
   "source": [
    "wa_data_sub[\"TRANSACTION_YEAR\"].value_counts().sort_index()"
   ]
  },
  {
   "cell_type": "code",
   "execution_count": 11,
   "metadata": {},
   "outputs": [
    {
     "data": {
      "text/plain": [
       "TRANSACTION_YEAR\n",
       "2006    1402206\n",
       "2007    1603018\n",
       "2008    1694548\n",
       "2009    1759476\n",
       "2010    1857404\n",
       "2011    1941545\n",
       "2012    1847980\n",
       "2013    1812361\n",
       "2014    1349300\n",
       "2015     933080\n",
       "2016     937545\n",
       "2017     906554\n",
       "2018     853558\n",
       "2019     803203\n",
       "Name: count, dtype: int64"
      ]
     },
     "execution_count": 11,
     "metadata": {},
     "output_type": "execute_result"
    }
   ],
   "source": [
    "tx_data_sub[\"TRANSACTION_YEAR\"].value_counts().sort_index()"
   ]
  },
  {
   "cell_type": "code",
   "execution_count": 12,
   "metadata": {},
   "outputs": [
    {
     "data": {
      "text/html": [
       "<div>\n",
       "<style scoped>\n",
       "    .dataframe tbody tr th:only-of-type {\n",
       "        vertical-align: middle;\n",
       "    }\n",
       "\n",
       "    .dataframe tbody tr th {\n",
       "        vertical-align: top;\n",
       "    }\n",
       "\n",
       "    .dataframe thead th {\n",
       "        text-align: right;\n",
       "    }\n",
       "</style>\n",
       "<table border=\"1\" class=\"dataframe\">\n",
       "  <thead>\n",
       "    <tr style=\"text-align: right;\">\n",
       "      <th></th>\n",
       "      <th>BUYER_STATE</th>\n",
       "      <th>BUYER_COUNTY</th>\n",
       "      <th>CALC_BASE_WT_IN_GM</th>\n",
       "      <th>TRANSACTION_YEAR</th>\n",
       "    </tr>\n",
       "  </thead>\n",
       "  <tbody>\n",
       "    <tr>\n",
       "      <th>0</th>\n",
       "      <td>FL</td>\n",
       "      <td>SAINT JOHNS</td>\n",
       "      <td>0.8965</td>\n",
       "      <td>2016</td>\n",
       "    </tr>\n",
       "    <tr>\n",
       "      <th>1</th>\n",
       "      <td>FL</td>\n",
       "      <td>PALM BEACH</td>\n",
       "      <td>0.8965</td>\n",
       "      <td>2016</td>\n",
       "    </tr>\n",
       "    <tr>\n",
       "      <th>2</th>\n",
       "      <td>FL</td>\n",
       "      <td>DUVAL</td>\n",
       "      <td>0.8965</td>\n",
       "      <td>2016</td>\n",
       "    </tr>\n",
       "    <tr>\n",
       "      <th>3</th>\n",
       "      <td>FL</td>\n",
       "      <td>MARION</td>\n",
       "      <td>0.8965</td>\n",
       "      <td>2016</td>\n",
       "    </tr>\n",
       "    <tr>\n",
       "      <th>4</th>\n",
       "      <td>FL</td>\n",
       "      <td>LEE</td>\n",
       "      <td>3.5860</td>\n",
       "      <td>2016</td>\n",
       "    </tr>\n",
       "  </tbody>\n",
       "</table>\n",
       "</div>"
      ],
      "text/plain": [
       "  BUYER_STATE BUYER_COUNTY  CALC_BASE_WT_IN_GM  TRANSACTION_YEAR\n",
       "0          FL  SAINT JOHNS              0.8965              2016\n",
       "1          FL   PALM BEACH              0.8965              2016\n",
       "2          FL        DUVAL              0.8965              2016\n",
       "3          FL       MARION              0.8965              2016\n",
       "4          FL          LEE              3.5860              2016"
      ]
     },
     "execution_count": 12,
     "metadata": {},
     "output_type": "execute_result"
    }
   ],
   "source": [
    "fl_data_sub.head()"
   ]
  },
  {
   "cell_type": "markdown",
   "metadata": {},
   "source": [
    "```Now we want to ensure we have no missing values```"
   ]
  },
  {
   "cell_type": "code",
   "execution_count": 13,
   "metadata": {},
   "outputs": [
    {
     "data": {
      "text/plain": [
       "BUYER_STATE            0\n",
       "BUYER_COUNTY          16\n",
       "CALC_BASE_WT_IN_GM     0\n",
       "TRANSACTION_YEAR       0\n",
       "dtype: int64"
      ]
     },
     "execution_count": 13,
     "metadata": {},
     "output_type": "execute_result"
    }
   ],
   "source": [
    "# search for missing values\n",
    "fl_data_sub.isnull().sum()"
   ]
  },
  {
   "cell_type": "markdown",
   "metadata": {},
   "source": [
    "```We can see that florida does have missing values for County Name```"
   ]
  },
  {
   "cell_type": "code",
   "execution_count": 14,
   "metadata": {},
   "outputs": [
    {
     "data": {
      "text/plain": [
       "BUYER_STATE           0\n",
       "BUYER_COUNTY          0\n",
       "CALC_BASE_WT_IN_GM    0\n",
       "TRANSACTION_YEAR      0\n",
       "dtype: int64"
      ]
     },
     "execution_count": 14,
     "metadata": {},
     "output_type": "execute_result"
    }
   ],
   "source": [
    "tx_data_sub.isnull().sum()"
   ]
  },
  {
   "cell_type": "code",
   "execution_count": 15,
   "metadata": {},
   "outputs": [
    {
     "data": {
      "text/plain": [
       "BUYER_STATE           0\n",
       "BUYER_COUNTY          0\n",
       "CALC_BASE_WT_IN_GM    0\n",
       "TRANSACTION_YEAR      0\n",
       "dtype: int64"
      ]
     },
     "execution_count": 15,
     "metadata": {},
     "output_type": "execute_result"
    }
   ],
   "source": [
    "wa_data_sub.isnull().sum()"
   ]
  },
  {
   "cell_type": "markdown",
   "metadata": {},
   "source": [
    "```We will make a set for a year where there are no missing values to get a complete list of all counties```"
   ]
  },
  {
   "cell_type": "code",
   "execution_count": 16,
   "metadata": {},
   "outputs": [
    {
     "data": {
      "text/plain": [
       "67"
      ]
     },
     "execution_count": 16,
     "metadata": {},
     "output_type": "execute_result"
    }
   ],
   "source": [
    "# create a set of all the BUYER_COUNTY values for the year 2010\n",
    "fl_counties = set(\n",
    "    fl_data_sub[fl_data_sub[\"TRANSACTION_YEAR\"] == 2010][\"BUYER_COUNTY\"].unique()\n",
    ")\n",
    "len(fl_counties)"
   ]
  },
  {
   "cell_type": "markdown",
   "metadata": {},
   "source": [
    "```And its length matches what we expect for florida```"
   ]
  },
  {
   "cell_type": "markdown",
   "metadata": {},
   "source": [
    "```Now we will look at which observations are missing. We can see that it is all observations for 2007 and 2006```"
   ]
  },
  {
   "cell_type": "code",
   "execution_count": 17,
   "metadata": {},
   "outputs": [
    {
     "data": {
      "text/html": [
       "<div>\n",
       "<style scoped>\n",
       "    .dataframe tbody tr th:only-of-type {\n",
       "        vertical-align: middle;\n",
       "    }\n",
       "\n",
       "    .dataframe tbody tr th {\n",
       "        vertical-align: top;\n",
       "    }\n",
       "\n",
       "    .dataframe thead th {\n",
       "        text-align: right;\n",
       "    }\n",
       "</style>\n",
       "<table border=\"1\" class=\"dataframe\">\n",
       "  <thead>\n",
       "    <tr style=\"text-align: right;\">\n",
       "      <th></th>\n",
       "      <th>BUYER_STATE</th>\n",
       "      <th>BUYER_COUNTY</th>\n",
       "      <th>CALC_BASE_WT_IN_GM</th>\n",
       "      <th>TRANSACTION_YEAR</th>\n",
       "    </tr>\n",
       "  </thead>\n",
       "  <tbody>\n",
       "    <tr>\n",
       "      <th>7133154</th>\n",
       "      <td>FL</td>\n",
       "      <td>None</td>\n",
       "      <td>0.3027</td>\n",
       "      <td>2007</td>\n",
       "    </tr>\n",
       "    <tr>\n",
       "      <th>8065324</th>\n",
       "      <td>FL</td>\n",
       "      <td>None</td>\n",
       "      <td>0.3027</td>\n",
       "      <td>2006</td>\n",
       "    </tr>\n",
       "    <tr>\n",
       "      <th>8601704</th>\n",
       "      <td>FL</td>\n",
       "      <td>None</td>\n",
       "      <td>0.3027</td>\n",
       "      <td>2006</td>\n",
       "    </tr>\n",
       "    <tr>\n",
       "      <th>8694239</th>\n",
       "      <td>FL</td>\n",
       "      <td>None</td>\n",
       "      <td>0.3027</td>\n",
       "      <td>2007</td>\n",
       "    </tr>\n",
       "    <tr>\n",
       "      <th>9164218</th>\n",
       "      <td>FL</td>\n",
       "      <td>None</td>\n",
       "      <td>0.3027</td>\n",
       "      <td>2007</td>\n",
       "    </tr>\n",
       "    <tr>\n",
       "      <th>9703003</th>\n",
       "      <td>FL</td>\n",
       "      <td>None</td>\n",
       "      <td>0.3027</td>\n",
       "      <td>2007</td>\n",
       "    </tr>\n",
       "    <tr>\n",
       "      <th>10504118</th>\n",
       "      <td>FL</td>\n",
       "      <td>None</td>\n",
       "      <td>0.3027</td>\n",
       "      <td>2007</td>\n",
       "    </tr>\n",
       "    <tr>\n",
       "      <th>10889862</th>\n",
       "      <td>FL</td>\n",
       "      <td>None</td>\n",
       "      <td>0.3027</td>\n",
       "      <td>2006</td>\n",
       "    </tr>\n",
       "    <tr>\n",
       "      <th>11774167</th>\n",
       "      <td>FL</td>\n",
       "      <td>None</td>\n",
       "      <td>0.3027</td>\n",
       "      <td>2006</td>\n",
       "    </tr>\n",
       "    <tr>\n",
       "      <th>12388768</th>\n",
       "      <td>FL</td>\n",
       "      <td>None</td>\n",
       "      <td>0.3027</td>\n",
       "      <td>2006</td>\n",
       "    </tr>\n",
       "    <tr>\n",
       "      <th>12772857</th>\n",
       "      <td>FL</td>\n",
       "      <td>None</td>\n",
       "      <td>0.3027</td>\n",
       "      <td>2006</td>\n",
       "    </tr>\n",
       "    <tr>\n",
       "      <th>12865169</th>\n",
       "      <td>FL</td>\n",
       "      <td>None</td>\n",
       "      <td>0.3027</td>\n",
       "      <td>2007</td>\n",
       "    </tr>\n",
       "    <tr>\n",
       "      <th>15065830</th>\n",
       "      <td>FL</td>\n",
       "      <td>None</td>\n",
       "      <td>0.3027</td>\n",
       "      <td>2006</td>\n",
       "    </tr>\n",
       "    <tr>\n",
       "      <th>15628882</th>\n",
       "      <td>FL</td>\n",
       "      <td>None</td>\n",
       "      <td>0.3027</td>\n",
       "      <td>2007</td>\n",
       "    </tr>\n",
       "    <tr>\n",
       "      <th>15849466</th>\n",
       "      <td>FL</td>\n",
       "      <td>None</td>\n",
       "      <td>0.3027</td>\n",
       "      <td>2006</td>\n",
       "    </tr>\n",
       "    <tr>\n",
       "      <th>19852890</th>\n",
       "      <td>FL</td>\n",
       "      <td>None</td>\n",
       "      <td>0.3027</td>\n",
       "      <td>2006</td>\n",
       "    </tr>\n",
       "  </tbody>\n",
       "</table>\n",
       "</div>"
      ],
      "text/plain": [
       "         BUYER_STATE BUYER_COUNTY  CALC_BASE_WT_IN_GM  TRANSACTION_YEAR\n",
       "7133154           FL         None              0.3027              2007\n",
       "8065324           FL         None              0.3027              2006\n",
       "8601704           FL         None              0.3027              2006\n",
       "8694239           FL         None              0.3027              2007\n",
       "9164218           FL         None              0.3027              2007\n",
       "9703003           FL         None              0.3027              2007\n",
       "10504118          FL         None              0.3027              2007\n",
       "10889862          FL         None              0.3027              2006\n",
       "11774167          FL         None              0.3027              2006\n",
       "12388768          FL         None              0.3027              2006\n",
       "12772857          FL         None              0.3027              2006\n",
       "12865169          FL         None              0.3027              2007\n",
       "15065830          FL         None              0.3027              2006\n",
       "15628882          FL         None              0.3027              2007\n",
       "15849466          FL         None              0.3027              2006\n",
       "19852890          FL         None              0.3027              2006"
      ]
     },
     "execution_count": 17,
     "metadata": {},
     "output_type": "execute_result"
    }
   ],
   "source": [
    "# display the rows with missing data in fl_data_sub\n",
    "fl_data_sub[fl_data_sub[\"BUYER_COUNTY\"].isnull()]"
   ]
  },
  {
   "cell_type": "markdown",
   "metadata": {},
   "source": [
    "```Using the set we defined earlier we can see which Counties are actually missing```"
   ]
  },
  {
   "cell_type": "code",
   "execution_count": 18,
   "metadata": {},
   "outputs": [
    {
     "data": {
      "text/plain": [
       "{'GLADES'}"
      ]
     },
     "execution_count": 18,
     "metadata": {},
     "output_type": "execute_result"
    }
   ],
   "source": [
    "# for the year 2007, which BUYER_COUNTY names are not in the set of fl_counties\n",
    "fl_counties - set(\n",
    "    fl_data_sub[fl_data_sub[\"TRANSACTION_YEAR\"] == 2007][\"BUYER_COUNTY\"].unique()\n",
    ")"
   ]
  },
  {
   "cell_type": "code",
   "execution_count": 19,
   "metadata": {},
   "outputs": [
    {
     "data": {
      "text/plain": [
       "{'GLADES'}"
      ]
     },
     "execution_count": 19,
     "metadata": {},
     "output_type": "execute_result"
    }
   ],
   "source": [
    "fl_counties - set(\n",
    "    fl_data_sub[fl_data_sub[\"TRANSACTION_YEAR\"] == 2006][\"BUYER_COUNTY\"].unique()\n",
    ")"
   ]
  },
  {
   "cell_type": "markdown",
   "metadata": {},
   "source": [
    "```Because all the observations are for one county, we can simply update the dataframe for FL so that its missing values are from GLADES County```"
   ]
  },
  {
   "cell_type": "code",
   "execution_count": 20,
   "metadata": {},
   "outputs": [
    {
     "name": "stderr",
     "output_type": "stream",
     "text": [
      "C:\\Users\\johnh\\AppData\\Local\\Temp\\ipykernel_13316\\792006058.py:2: SettingWithCopyWarning: \n",
      "A value is trying to be set on a copy of a slice from a DataFrame\n",
      "\n",
      "See the caveats in the documentation: https://pandas.pydata.org/pandas-docs/stable/user_guide/indexing.html#returning-a-view-versus-a-copy\n",
      "  fl_data_sub['BUYER_COUNTY'].fillna('GLADES', inplace=True)\n"
     ]
    }
   ],
   "source": [
    "# replace all the missing values in fl_data_sub for BUYER_COUNTY with 'GLADES'\n",
    "fl_data_sub[\"BUYER_COUNTY\"].fillna(\"GLADES\", inplace=True)"
   ]
  },
  {
   "cell_type": "code",
   "execution_count": 21,
   "metadata": {},
   "outputs": [
    {
     "data": {
      "text/plain": [
       "BUYER_STATE           0\n",
       "BUYER_COUNTY          0\n",
       "CALC_BASE_WT_IN_GM    0\n",
       "TRANSACTION_YEAR      0\n",
       "dtype: int64"
      ]
     },
     "execution_count": 21,
     "metadata": {},
     "output_type": "execute_result"
    }
   ],
   "source": [
    "fl_data_sub.isnull().sum()"
   ]
  },
  {
   "cell_type": "markdown",
   "metadata": {},
   "source": [
    "```Now we will write these to parquet files for later use```"
   ]
  },
  {
   "cell_type": "code",
   "execution_count": 22,
   "metadata": {},
   "outputs": [],
   "source": [
    "# write fl_data_sub, wa_data_sub, tx_data_sub to parquet files\n",
    "fl_data_sub.to_parquet(\n",
    "    \"D:\\MIDS\\Practical Data Science\\PDS_Data\\wp_data_fl_clean.parquet\"\n",
    ")\n",
    "wa_data_sub.to_parquet(\n",
    "    \"D:\\MIDS\\Practical Data Science\\PDS_Data\\wp_data_wa_clean.parquet\"\n",
    ")\n",
    "tx_data_sub.to_parquet(\n",
    "    \"D:\\MIDS\\Practical Data Science\\PDS_Data\\wp_data_tx_clean.parquet\"\n",
    ")"
   ]
  },
  {
   "cell_type": "markdown",
   "metadata": {},
   "source": [
    "```The largest of these files is actually 36mb so we will write them to the 20_intermediate_files folder too```"
   ]
  },
  {
   "cell_type": "code",
   "execution_count": 23,
   "metadata": {},
   "outputs": [],
   "source": [
    "fl_data_sub.to_parquet(\"../20_intermediate_files/wp_data_fl_clean.parquet\")\n",
    "wa_data_sub.to_parquet(\"../20_intermediate_files/wp_data_wa_clean.parquet\")\n",
    "tx_data_sub.to_parquet(\"../20_intermediate_files/wp_data_tx_clean.parquet\")"
   ]
  },
  {
   "cell_type": "code",
   "execution_count": null,
   "metadata": {},
   "outputs": [],
   "source": []
  }
 ],
 "metadata": {
  "kernelspec": {
   "display_name": "base",
   "language": "python",
   "name": "python3"
  },
  "language_info": {
   "codemirror_mode": {
    "name": "ipython",
    "version": 3
   },
   "file_extension": ".py",
   "mimetype": "text/x-python",
   "name": "python",
   "nbconvert_exporter": "python",
   "pygments_lexer": "ipython3",
   "version": "3.11.5"
  }
 },
 "nbformat": 4,
 "nbformat_minor": 2
}
