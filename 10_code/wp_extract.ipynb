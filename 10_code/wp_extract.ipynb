{
 "cells": [
  {
   "cell_type": "code",
   "execution_count": 5,
   "metadata": {},
   "outputs": [],
   "source": [
    "import pandas as pd"
   ]
  },
  {
   "cell_type": "code",
   "execution_count": 6,
   "metadata": {},
   "outputs": [],
   "source": [
    "chunk_size = 6000000\n",
    "wp_path = \"D:\\\\Downloads\\\\arcos_all_washpost.zip\"\n",
    "wp_data = pd.read_csv(\n",
    "    wp_path, compression=\"zip\", sep=\"\\t\", chunksize=chunk_size, low_memory=False\n",
    ")"
   ]
  },
  {
   "cell_type": "code",
   "execution_count": 7,
   "metadata": {},
   "outputs": [],
   "source": [
    "wp_df = pd.DataFrame()\n",
    "for chunk in wp_data:\n",
    "    subset = chunk[chunk[\"BUYER_STATE\"] == \"TX\"]\n",
    "    wp_df = pd.concat([wp_df, subset])"
   ]
  },
  {
   "cell_type": "code",
   "execution_count": 9,
   "metadata": {},
   "outputs": [],
   "source": [
    "# write wp_data_fl to parquet\n",
    "wp_df.to_parquet(\"D:\\\\MIDS\\\\Practical Data Science\\\\PDS_Data\\\\wp_data_tx.parquet\")"
   ]
  }
 ],
 "metadata": {
  "kernelspec": {
   "display_name": "base",
   "language": "python",
   "name": "python3"
  },
  "language_info": {
   "codemirror_mode": {
    "name": "ipython",
    "version": 3
   },
   "file_extension": ".py",
   "mimetype": "text/x-python",
   "name": "python",
   "nbconvert_exporter": "python",
   "pygments_lexer": "ipython3",
   "version": "3.11.5"
  }
 },
 "nbformat": 4,
 "nbformat_minor": 2
}
